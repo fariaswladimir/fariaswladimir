{
  "nbformat": 4,
  "nbformat_minor": 0,
  "metadata": {
    "colab": {
      "name": "Python para data Science_lógica.ipynb",
      "provenance": [],
      "collapsed_sections": [
        "HAzK9PdNt_dc",
        "PmH-4Akz2Muu"
      ],
      "authorship_tag": "ABX9TyNMO5FwOlVzkmeLwBpQR26r",
      "include_colab_link": true
    },
    "kernelspec": {
      "name": "python3",
      "display_name": "Python 3"
    },
    "language_info": {
      "name": "python"
    }
  },
  "cells": [
    {
      "cell_type": "markdown",
      "metadata": {
        "id": "view-in-github",
        "colab_type": "text"
      },
      "source": [
        "<a href=\"https://colab.research.google.com/github/fariaswladimir/fariaswladimir/blob/main/Python_para_data_Science_l%C3%B3gica.ipynb\" target=\"_parent\"><img src=\"https://colab.research.google.com/assets/colab-badge.svg\" alt=\"Open In Colab\"/></a>"
      ]
    },
    {
      "cell_type": "markdown",
      "metadata": {
        "id": "HAzK9PdNt_dc"
      },
      "source": [
        "# **Lógica De programação com Python**"
      ]
    },
    {
      "cell_type": "code",
      "metadata": {
        "id": "42QjihWquUu-"
      },
      "source": [
        "nome ='Wladimir'\n",
        "idade = 33"
      ],
      "execution_count": null,
      "outputs": []
    },
    {
      "cell_type": "code",
      "metadata": {
        "colab": {
          "base_uri": "https://localhost:8080/"
        },
        "id": "4ZkwbPY1vCIA",
        "outputId": "d51de0d2-f179-4462-b794-56c296054fe2"
      },
      "source": [
        "print('o meu nome é wladimir e minha idade é 33 anos')"
      ],
      "execution_count": null,
      "outputs": [
        {
          "output_type": "stream",
          "name": "stdout",
          "text": [
            "o meu nome é wladimir e minha idade é 33 anos\n"
          ]
        }
      ]
    },
    {
      "cell_type": "code",
      "metadata": {
        "colab": {
          "base_uri": "https://localhost:8080/"
        },
        "id": "sZdrtc2bvea9",
        "outputId": "d8b34b38-1e0d-4ef3-be81-a062cfeeea65"
      },
      "source": [
        "print(f'o meu {nome} é wladimir e minha idade é {33} anos')"
      ],
      "execution_count": null,
      "outputs": [
        {
          "output_type": "stream",
          "name": "stdout",
          "text": [
            "o meu Wladimir é wladimir e minha idade é 33 anos\n"
          ]
        }
      ]
    },
    {
      "cell_type": "markdown",
      "metadata": {
        "id": "FKLvTPnXv0u_"
      },
      "source": [
        "Criar uma função"
      ]
    },
    {
      "cell_type": "code",
      "metadata": {
        "id": "fNA7DPH4v33l"
      },
      "source": [
        "def saudacao():\n",
        "  nome = input('Qual seu nome?  ')\n",
        "  print(f'Olá, {nome} Boa tarde!')"
      ],
      "execution_count": null,
      "outputs": []
    },
    {
      "cell_type": "code",
      "metadata": {
        "colab": {
          "base_uri": "https://localhost:8080/"
        },
        "id": "pPdhNOiwwWiu",
        "outputId": "8398cae2-9e15-46dd-aa8b-dc8f5d591b41"
      },
      "source": [
        "saudacao()"
      ],
      "execution_count": null,
      "outputs": [
        {
          "output_type": "stream",
          "name": "stdout",
          "text": [
            "Qual seu nome?  wlad\n",
            "Olá, wlad Boa tarde!\n"
          ]
        }
      ]
    },
    {
      "cell_type": "code",
      "metadata": {
        "colab": {
          "base_uri": "https://localhost:8080/"
        },
        "id": "BZIvOseHxl9n",
        "outputId": "4be91250-f0ee-433c-e7ea-89d0b753e0ed"
      },
      "source": [
        "def nome_completo():\n",
        " primeiro_nome = input('Qual seu primeiro nome? ')\n",
        " sobrenome = input('Qual seu sobrenome? ')\n",
        " nome_inteiro = primeiro_nome + ' ' + sobrenome\n",
        " print(nome_inteiro)\n",
        "\n",
        "nome_completo()"
      ],
      "execution_count": null,
      "outputs": [
        {
          "output_type": "stream",
          "name": "stdout",
          "text": [
            "Qual seu primeiro nome? oi \n",
            "Qual seu sobrenome? o oi \n",
            "oi  o oi \n"
          ]
        }
      ]
    },
    {
      "cell_type": "markdown",
      "metadata": {
        "id": "JbdpoyTxnU_U"
      },
      "source": [
        "# **Criando a primeira função**"
      ]
    },
    {
      "cell_type": "markdown",
      "metadata": {
        "id": "PmH-4Akz2Muu"
      },
      "source": [
        "# Parâmetro"
      ]
    },
    {
      "cell_type": "code",
      "metadata": {
        "id": "OUBvMMU91Rhg"
      },
      "source": [
        "nome = 'luiza'"
      ],
      "execution_count": null,
      "outputs": []
    },
    {
      "cell_type": "code",
      "metadata": {
        "id": "iwhmQvyOniqF"
      },
      "source": [
        "def saudacao_com_parametros(nome_da_pessoa):\n",
        "  print(f'olá {nome_da_pessoa}')"
      ],
      "execution_count": null,
      "outputs": []
    },
    {
      "cell_type": "code",
      "metadata": {
        "colab": {
          "base_uri": "https://localhost:8080/"
        },
        "id": "3pvKpJ6Z1tJe",
        "outputId": "bcc4b20f-a026-417e-e6bf-31c7f7ee84e2"
      },
      "source": [
        "saudacao_com_parametros(nome)"
      ],
      "execution_count": null,
      "outputs": [
        {
          "output_type": "stream",
          "name": "stdout",
          "text": [
            "olá luiza\n"
          ]
        }
      ]
    },
    {
      "cell_type": "markdown",
      "metadata": {
        "id": "CilX524r2iAO"
      },
      "source": [
        "# Condicionais"
      ]
    },
    {
      "cell_type": "code",
      "metadata": {
        "colab": {
          "base_uri": "https://localhost:8080/"
        },
        "id": "cYuGRDXg38rq",
        "outputId": "59dfddd7-76be-4682-fc29-979ae3a9ea65"
      },
      "source": [
        "idade = 20 \n",
        "\n",
        "def verifica_se_pode_dirigir(idade):\n",
        "  if idade >= 18:\n",
        "    print('tem permissão para dirigir')\n",
        "  else:\n",
        "    print('não pode dirigir')\n",
        "\n",
        "verifica_se_pode_dirigir(idade)"
      ],
      "execution_count": null,
      "outputs": [
        {
          "output_type": "stream",
          "name": "stdout",
          "text": [
            "tem permissão para dirigir\n"
          ]
        }
      ]
    },
    {
      "cell_type": "code",
      "metadata": {
        "colab": {
          "base_uri": "https://localhost:8080/"
        },
        "id": "zNsmGGp1AcqN",
        "outputId": "0db72735-3dfe-4d9c-d261-01480da9989a"
      },
      "source": [
        "def verifica_se_pode_dirigir_sem_parametros():\n",
        "  idade = input('Qual sua idade? ')\n",
        "  idade = int(idade)\n",
        "  if idade >= 18:\n",
        "    print('tem permissão para dirigir')\n",
        "  else:\n",
        "    print('não pode dirigir')\n",
        "\n",
        "verifica_se_pode_dirigir_sem_parametros()"
      ],
      "execution_count": null,
      "outputs": [
        {
          "output_type": "stream",
          "name": "stdout",
          "text": [
            "Qual sua idade? 90\n",
            "tem permissão para dirigir\n"
          ]
        }
      ]
    },
    {
      "cell_type": "markdown",
      "metadata": {
        "id": "WIykBCKP6nR7"
      },
      "source": [
        "# Listas, booleano e repetições"
      ]
    },
    {
      "cell_type": "code",
      "metadata": {
        "colab": {
          "base_uri": "https://localhost:8080/"
        },
        "id": "AwEIVPV66vJ4",
        "outputId": "dcc0fbe7-d79a-488e-bc01-a37cf2b36b1b"
      },
      "source": [
        "idade = 22\n",
        "idade"
      ],
      "execution_count": null,
      "outputs": [
        {
          "output_type": "execute_result",
          "data": {
            "text/plain": [
              "22"
            ]
          },
          "metadata": {},
          "execution_count": 1
        }
      ]
    },
    {
      "cell_type": "code",
      "metadata": {
        "colab": {
          "base_uri": "https://localhost:8080/"
        },
        "id": "nUllDlBz7s0L",
        "outputId": "a0df218d-59f9-4fe7-f3c8-fbc4855e7420"
      },
      "source": [
        "type(idade)"
      ],
      "execution_count": null,
      "outputs": [
        {
          "output_type": "execute_result",
          "data": {
            "text/plain": [
              "int"
            ]
          },
          "metadata": {},
          "execution_count": 2
        }
      ]
    },
    {
      "cell_type": "code",
      "metadata": {
        "colab": {
          "base_uri": "https://localhost:8080/"
        },
        "id": "V9ukAxiR7wkb",
        "outputId": "07a70d78-2358-4994-ebd8-4a6e2dc31449"
      },
      "source": [
        "nome = 'Guilherme'\n",
        "\n",
        "type(nome)"
      ],
      "execution_count": null,
      "outputs": [
        {
          "output_type": "execute_result",
          "data": {
            "text/plain": [
              "str"
            ]
          },
          "metadata": {},
          "execution_count": 3
        }
      ]
    },
    {
      "cell_type": "code",
      "metadata": {
        "colab": {
          "base_uri": "https://localhost:8080/"
        },
        "id": "Q_izD9CD7_kt",
        "outputId": "323c33ec-05c2-4553-b492-4fe3bdd63cd2"
      },
      "source": [
        "idades = [18, 15, 22, 50]\n",
        "\n",
        "type(idades)"
      ],
      "execution_count": null,
      "outputs": [
        {
          "output_type": "execute_result",
          "data": {
            "text/plain": [
              "list"
            ]
          },
          "metadata": {},
          "execution_count": 17
        }
      ]
    },
    {
      "cell_type": "code",
      "metadata": {
        "colab": {
          "base_uri": "https://localhost:8080/"
        },
        "id": "c7cdJqfM8Htc",
        "outputId": "53eff628-5064-43e3-b39c-716b6a9f6fb7"
      },
      "source": [
        "#idades[2]"
      ],
      "execution_count": null,
      "outputs": [
        {
          "output_type": "execute_result",
          "data": {
            "text/plain": [
              "22"
            ]
          },
          "metadata": {},
          "execution_count": 6
        }
      ]
    },
    {
      "cell_type": "code",
      "metadata": {
        "colab": {
          "base_uri": "https://localhost:8080/"
        },
        "id": "INSJGjM98XwT",
        "outputId": "4e1f073a-b09e-481d-d3a3-0ab59c309d3a"
      },
      "source": [
        "#idades[1:3]"
      ],
      "execution_count": null,
      "outputs": [
        {
          "output_type": "execute_result",
          "data": {
            "text/plain": [
              "[19, 22]"
            ]
          },
          "metadata": {},
          "execution_count": 11
        }
      ]
    },
    {
      "cell_type": "code",
      "metadata": {
        "colab": {
          "base_uri": "https://localhost:8080/"
        },
        "id": "-fg6NQL38wft",
        "outputId": "d93a8271-c60a-4069-d89b-eb29d04cd138"
      },
      "source": [
        "#idades[-1]"
      ],
      "execution_count": null,
      "outputs": [
        {
          "output_type": "execute_result",
          "data": {
            "text/plain": [
              "50"
            ]
          },
          "metadata": {},
          "execution_count": 12
        }
      ]
    },
    {
      "cell_type": "code",
      "metadata": {
        "colab": {
          "base_uri": "https://localhost:8080/"
        },
        "id": "ZeOyJY0Y9sgT",
        "outputId": "17d8bc48-8d7a-4261-f904-74f6b62c92a5"
      },
      "source": [
        "idades"
      ],
      "execution_count": null,
      "outputs": [
        {
          "output_type": "execute_result",
          "data": {
            "text/plain": [
              "[18, 19, 22, 50]"
            ]
          },
          "metadata": {},
          "execution_count": 13
        }
      ]
    },
    {
      "cell_type": "markdown",
      "metadata": {
        "id": "Zm6IimVk9vTT"
      },
      "source": [
        "#laços "
      ]
    },
    {
      "cell_type": "code",
      "metadata": {
        "colab": {
          "base_uri": "https://localhost:8080/"
        },
        "id": "rjfAYeSK9xXh",
        "outputId": "d1876564-32e0-4eb4-f12a-ce2d15d9496e"
      },
      "source": [
        "def verifica_se_pode_dirigir(idade):\n",
        "  if idade >= 18:\n",
        "    print(f'{idade} anos, TEM permissão para dirigir')\n",
        "  else:\n",
        "    print(f'{idade} anos, NÃO TEM permissão para dirigir')\n",
        "\n",
        "for idade in idades:\n",
        "  verifica_se_pode_dirigir(idade)"
      ],
      "execution_count": null,
      "outputs": [
        {
          "output_type": "stream",
          "name": "stdout",
          "text": [
            "18 anos, TEM permissão para dirigir\n",
            "15 anos, NÃO TEM permissão para dirigir\n",
            "22 anos, TEM permissão para dirigir\n",
            "50 anos, TEM permissão para dirigir\n"
          ]
        }
      ]
    },
    {
      "cell_type": "code",
      "metadata": {
        "colab": {
          "base_uri": "https://localhost:8080/"
        },
        "id": "dXreyzaS_Nwp",
        "outputId": "e53d494e-c37d-4503-e12f-b2c0898257fc"
      },
      "source": [
        "def verifica_se_pode_dirigir(idades):\n",
        "  for idade in idades:\n",
        "    if idade >= 18:\n",
        "      print(f'{idade} PODE DIRIGIR')\n",
        "    else:\n",
        "      print(f'{idade} NÃO PODE DIRIGIR')\n",
        "\n",
        "verifica_se_pode_dirigir(idades)"
      ],
      "execution_count": null,
      "outputs": [
        {
          "output_type": "stream",
          "name": "stdout",
          "text": [
            "18 PODE DIRIGIR\n",
            "15 NÃO PODE DIRIGIR\n",
            "22 PODE DIRIGIR\n",
            "50 PODE DIRIGIR\n"
          ]
        }
      ]
    },
    {
      "cell_type": "code",
      "metadata": {
        "id": "zhjoCqEVARH3"
      },
      "source": [
        "#booleano\n",
        "idade = 18 "
      ],
      "execution_count": null,
      "outputs": []
    },
    {
      "cell_type": "code",
      "metadata": {
        "colab": {
          "base_uri": "https://localhost:8080/"
        },
        "id": "NFtNX_-VCGAD",
        "outputId": "1ec81f87-16b9-4d47-bd07-b80bba45e19d"
      },
      "source": [
        "permissoes = []\n",
        "idades = [20, 14, 40]\n",
        "\n",
        "def verifica_se_pode_dirigir(idades, permissoes):\n",
        "  for idade in idades:\n",
        "    if idade >= 18:\n",
        "      permissoes.append(True)\n",
        "    else:\n",
        "      permissoes.append(False)\n",
        "\n",
        "verifica_se_pode_dirigir(idades, permissoes)\n",
        "\n",
        "permissoes"
      ],
      "execution_count": null,
      "outputs": [
        {
          "output_type": "execute_result",
          "data": {
            "text/plain": [
              "[True, False, True]"
            ]
          },
          "metadata": {},
          "execution_count": 40
        }
      ]
    },
    {
      "cell_type": "code",
      "metadata": {
        "colab": {
          "base_uri": "https://localhost:8080/"
        },
        "id": "O_7xPnYGEj-J",
        "outputId": "21d86b73-1ad3-4236-bbea-6cfc0f94d9f1"
      },
      "source": [
        "for permissao in permissoes:\n",
        "  if permissao == True:\n",
        "    print('Tem permissão para dirigir')\n",
        "  else: \n",
        "    print('Não tem permissão para dirigir')\n",
        "\n"
      ],
      "execution_count": null,
      "outputs": [
        {
          "output_type": "stream",
          "name": "stdout",
          "text": [
            "Tem permissão para dirigir\n",
            "Não tem permissão para dirigir\n",
            "Tem permissão para dirigir\n"
          ]
        }
      ]
    },
    {
      "cell_type": "code",
      "metadata": {
        "colab": {
          "base_uri": "https://localhost:8080/"
        },
        "id": "oBN11zYYFOZY",
        "outputId": "d3b2ccc2-2313-4c6d-c708-b2749b0dfcb1"
      },
      "source": [
        "a=2\n",
        "\n",
        "if a < 2:\n",
        " a = a + 1\n",
        "else:\n",
        " a = a + 2\n",
        "if a < 4:\n",
        " a = a - 4\n",
        "else:\n",
        " a = a + 6\n",
        "\n",
        "a"
      ],
      "execution_count": null,
      "outputs": [
        {
          "output_type": "execute_result",
          "data": {
            "text/plain": [
              "10"
            ]
          },
          "metadata": {},
          "execution_count": 43
        }
      ]
    },
    {
      "cell_type": "code",
      "metadata": {
        "colab": {
          "base_uri": "https://localhost:8080/"
        },
        "id": "8czQgCwuFT4Q",
        "outputId": "755d4f2f-c3c5-45b4-9e9d-4448b4c1e44a"
      },
      "source": [
        "pi = 3.14\n",
        "type(pi)"
      ],
      "execution_count": null,
      "outputs": [
        {
          "output_type": "execute_result",
          "data": {
            "text/plain": [
              "float"
            ]
          },
          "metadata": {},
          "execution_count": 44
        }
      ]
    },
    {
      "cell_type": "markdown",
      "metadata": {
        "id": "-FWLXE3RFjmg"
      },
      "source": [
        "#imports"
      ]
    },
    {
      "cell_type": "code",
      "metadata": {
        "colab": {
          "base_uri": "https://localhost:8080/"
        },
        "id": "JkcynjAFFmMo",
        "outputId": "179535fe-ce7c-4416-80d2-3f0577ee578e"
      },
      "source": [
        "lista = ['int', False, True, '18', 2020]\n",
        "for elemento in lista:\n",
        " print(type(elemento))"
      ],
      "execution_count": null,
      "outputs": [
        {
          "output_type": "stream",
          "name": "stdout",
          "text": [
            "<class 'str'>\n",
            "<class 'bool'>\n",
            "<class 'bool'>\n",
            "<class 'str'>\n",
            "<class 'int'>\n"
          ]
        }
      ]
    },
    {
      "cell_type": "code",
      "metadata": {
        "id": "HMEMXjAUHSBl"
      },
      "source": [
        "from random import randrange"
      ],
      "execution_count": null,
      "outputs": []
    },
    {
      "cell_type": "code",
      "metadata": {
        "colab": {
          "base_uri": "https://localhost:8080/"
        },
        "id": "RkTdWNdTHbct",
        "outputId": "0ae9141f-f26a-4ab1-fcfc-c0bb349f6f61"
      },
      "source": [
        "randrange(0, 10)"
      ],
      "execution_count": null,
      "outputs": [
        {
          "output_type": "execute_result",
          "data": {
            "text/plain": [
              "3"
            ]
          },
          "metadata": {},
          "execution_count": 3
        }
      ]
    },
    {
      "cell_type": "code",
      "metadata": {
        "colab": {
          "base_uri": "https://localhost:8080/"
        },
        "id": "LGXcbBssHtMJ",
        "outputId": "e250d738-a451-4350-a908-e69ceebc7744"
      },
      "source": [
        "notas_matematica = []\n",
        "\n",
        "for notas in range(6):\n",
        "  notas_matematica.append(randrange(0, 100))\n",
        "\n",
        "notas_matematica"
      ],
      "execution_count": null,
      "outputs": [
        {
          "output_type": "execute_result",
          "data": {
            "text/plain": [
              "[47, 81, 89, 27, 67, 89]"
            ]
          },
          "metadata": {},
          "execution_count": 9
        }
      ]
    },
    {
      "cell_type": "code",
      "metadata": {
        "colab": {
          "base_uri": "https://localhost:8080/"
        },
        "id": "CaVgEq0AHpS4",
        "outputId": "f192a509-28bf-4b94-b3ba-052ab153c8e4"
      },
      "source": [
        "len(notas_matematica)\n"
      ],
      "execution_count": null,
      "outputs": [
        {
          "output_type": "execute_result",
          "data": {
            "text/plain": [
              "6"
            ]
          },
          "metadata": {},
          "execution_count": 10
        }
      ]
    },
    {
      "cell_type": "markdown",
      "metadata": {
        "id": "xW2kuYbqKbrO"
      },
      "source": [
        "#Matplotlib"
      ]
    },
    {
      "cell_type": "code",
      "metadata": {
        "id": "BA2NrKx8KeSA"
      },
      "source": [
        "import matplotlib.pyplot as plt"
      ],
      "execution_count": null,
      "outputs": []
    },
    {
      "cell_type": "code",
      "metadata": {
        "colab": {
          "base_uri": "https://localhost:8080/"
        },
        "id": "dFwQX2NLLEns",
        "outputId": "f4cfb3d5-fb7d-448d-ea9d-bb85d605abd7"
      },
      "source": [
        "x = list(range(1, 10))\n",
        "x"
      ],
      "execution_count": null,
      "outputs": [
        {
          "output_type": "execute_result",
          "data": {
            "text/plain": [
              "[1, 2, 3, 4, 5, 6, 7, 8, 9]"
            ]
          },
          "metadata": {},
          "execution_count": 14
        }
      ]
    },
    {
      "cell_type": "code",
      "metadata": {
        "colab": {
          "base_uri": "https://localhost:8080/",
          "height": 295
        },
        "id": "po3b9j4ELyBg",
        "outputId": "66c2ca61-c6a2-49a4-c628-3361facea746"
      },
      "source": [
        "x = list(range(1, 10))\n",
        "y = notas_matematica\n",
        "plt.title('notas de matematica')\n",
        "plt.xlabel('Provas')\n",
        "plt.ylabel('Notas')\n",
        "plt.plot(x, y, marker='o')\n",
        "plt.show()"
      ],
      "execution_count": null,
      "outputs": [
        {
          "output_type": "display_data",
          "data": {
            "image/png": "[encoded data removed]",
            "text/plain": [
              "<Figure size 432x288 with 1 Axes>"
            ]
          },
          "metadata": {
            "needs_background": "light"
          }
        }
      ]
    }
  ]
}